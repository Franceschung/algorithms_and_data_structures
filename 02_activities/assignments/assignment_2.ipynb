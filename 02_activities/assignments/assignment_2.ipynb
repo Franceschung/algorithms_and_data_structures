{
 "cells": [
  {
   "cell_type": "markdown",
   "metadata": {},
   "source": [
    "# Practice Interview\n",
    "\n",
    "## Objective\n",
    "\n",
    "_*The partner assignment aims to provide participants with the opportunity to practice coding in an interview context. You will analyze your partner's Assignment 1. Moreover, code reviews are common practice in a software development team. This assignment should give you a taste of the code review process.*_\n",
    "\n",
    "## Group Size\n",
    "\n",
    "Each group should have 2 people. You will be assigned a partner\n",
    "\n",
    "## Part 1:\n",
    "\n",
    "You and your partner must share each other's Assignment 1 submission."
   ]
  },
  {
   "cell_type": "markdown",
   "metadata": {},
   "source": [
    "\n",
    "## Part 2:\n",
    "\n",
    "Create a Jupyter Notebook, create 6 of the following headings, and complete the following for your partner's assignment 1:\n",
    "\n",
    "-   Paraphrase the problem in your own words.\n"
   ]
  },
  {
   "cell_type": "code",
   "execution_count": null,
   "metadata": {},
   "outputs": [],
   "source": [
    "# Your answer here\n",
    "# The input is the root of binary tree in BFS format. \n",
    "# And the output should return all the paths from the root to each leaf node using DFS preorder. "
   ]
  },
  {
   "cell_type": "markdown",
   "metadata": {},
   "source": [
    "\n",
    "-   Create 1 new example that demonstrates you understand the problem. Trace/walkthrough 1 example that your partner made and explain it.\n"
   ]
  },
  {
   "cell_type": "code",
   "execution_count": null,
   "metadata": {},
   "outputs": [],
   "source": [
    "# Your answer here\n",
    "#root = [1, 2, 3, 5, 6, 7]\n",
    "new_example = TreeNode(1)\n",
    "new_example.left = TreeNode(2)\n",
    "new_example.right = TreeNode(3)\n",
    "new_example.left.left = TreeNode(5)\n",
    "new_example.right.left = TreeNode(6)\n",
    "new_example.right.right = TreeNode(7)\n",
    "#output = [[1,2,5],[1,3,6],[1,3,7]]\n",
    "\n",
    "# Walkthrough my partner example:\n",
    "# My partner didn't give the example starting with root in a BFS format list but they directly constructed the tree. \n",
    "# With root_example_3, the tree has two levels and two subtrees. Here's the structure should follow: \n",
    "#   5\n",
    "#  / \\\n",
    "# 4   6\n",
    "#    /\n",
    "#   7\n",
    "# They provided the correct expected output listing all root to leaf paths.  "
   ]
  },
  {
   "cell_type": "markdown",
   "metadata": {},
   "source": [
    "\n",
    "-   Copy the solution your partner wrote. \n"
   ]
  },
  {
   "cell_type": "code",
   "execution_count": 2,
   "metadata": {},
   "outputs": [],
   "source": [
    "# Definition for a binary tree node.\n",
    "from typing import List\n",
    "\n",
    "class TreeNode(object):\n",
    "    def __init__(self, val = 0, left = None, right = None):\n",
    "        self.val = val\n",
    "        self.left = left\n",
    "        self.right = right"
   ]
  },
  {
   "cell_type": "code",
   "execution_count": 3,
   "metadata": {},
   "outputs": [],
   "source": [
    "# Your answer here\n",
    "def bt_path(root: TreeNode) -> List[List[int]]:\n",
    "  def dfs(node, path):\n",
    "    if node:\n",
    "      path.append(node.val)\n",
    "      if not node.left and not node.right:\n",
    "        res.append(path[:])\n",
    "      else:\n",
    "        dfs(node.left, path)\n",
    "        dfs(node.right, path)\n",
    "      path.pop()\n",
    "  res = []\n",
    "  dfs(root, [])\n",
    "  return res"
   ]
  },
  {
   "cell_type": "markdown",
   "metadata": {},
   "source": [
    "\n",
    "-   Explain why their solution works in your own words.\n"
   ]
  },
  {
   "cell_type": "code",
   "execution_count": null,
   "metadata": {},
   "outputs": [],
   "source": [
    "# Your answer here\n",
    "# This solution finds all root-to-leaf paths using DFS (Depth-First Search). \n",
    "# it starts from the root and make recursive calls to explore the left and right subtrees. \n",
    "# As it move down or reach a leaf node, it appends the node to the path. \n",
    "# After finishing one path, it backtracks to explore the next one. "
   ]
  },
  {
   "cell_type": "markdown",
   "metadata": {},
   "source": [
    "\n",
    "-   Explain the problem’s time and space complexity in your own words.\n"
   ]
  },
  {
   "cell_type": "code",
   "execution_count": null,
   "metadata": {},
   "outputs": [],
   "source": [
    "# Your answer here\n",
    "# Time complexity is O(n) because each node will be visited once. \n",
    "# Space complexity is O(h) which is the height of the tree"
   ]
  },
  {
   "cell_type": "markdown",
   "metadata": {},
   "source": [
    "\n",
    "-   Critique your partner's solution, including explanation, and if there is anything that should be adjusted.\n"
   ]
  },
  {
   "cell_type": "code",
   "execution_count": null,
   "metadata": {},
   "outputs": [],
   "source": [
    "# Your answer here\n",
    "# Their solution works well and the explanation is clear and correct. There's nothing need to be adjust for the solution and solution explanation.\n",
    "# However, their explaination on time and space complexity are incorrect. The time complexity should be O(n) and space complexity should be O(h)"
   ]
  },
  {
   "cell_type": "markdown",
   "metadata": {},
   "source": [
    "\n",
    "## Part 3:\n",
    "\n",
    "Please write a 200 word reflection documenting your process from assignment 1, and your presentation and review experience with your partner at the bottom of the Jupyter Notebook under a new heading \"Reflection.\" Again, export this Notebook as pdf.\n"
   ]
  },
  {
   "cell_type": "markdown",
   "metadata": {},
   "source": [
    "### Reflection"
   ]
  },
  {
   "cell_type": "markdown",
   "metadata": {},
   "source": [
    "Reflecting on Assignment 1, I realize how important it is to understand the problem thoroughly, especially the input, output, and the process involved. Thinking through examples with expected outputs really helped me ensure I had a solid understanding of the problem and it also helps to validate the solution afterward. \n",
    "\n",
    "I also learned that it’s crucial to consider the best data structures and algorithms for the task. It's not just about having the solution to do the work but it's also important to aim for the best time and space complexity when designing solutions. Being able to explain why my solution works was a key part of the process. Understanding the time and space complexities of my solution gave me confidence in my approach. It also made me realize how helpful it is to compare different solutions and look for the most efficient one.\n",
    "\n",
    "The code review with my partner was essential in ensuring the quality of my solution. It made me appreciate the value of code review. Again, the code review process is about understanding their approach, explaining why it works, and considering improvements or adjustments where necessary. It reinforced the importance of not just solving the problem, but also explaining and understanding the solution thoroughly."
   ]
  },
  {
   "cell_type": "markdown",
   "metadata": {},
   "source": [
    "\n",
    "## Evaluation Criteria\n",
    "\n",
    "We are looking for the similar points as Assignment 1\n",
    "\n",
    "-   Problem is accurately stated\n",
    "\n",
    "-   New example is correct and easily understandable\n",
    "\n",
    "-   Correctness, time, and space complexity of the coding solution\n",
    "\n",
    "-   Clarity in explaining why the solution works, its time and space complexity\n",
    "\n",
    "-   Quality of critique of your partner's assignment, if necessary\n"
   ]
  },
  {
   "cell_type": "markdown",
   "metadata": {},
   "source": [
    "## Submission Information\n",
    "\n",
    "🚨 **Please review our [Assignment Submission Guide](https://github.com/UofT-DSI/onboarding/blob/main/onboarding_documents/submissions.md)** 🚨 for detailed instructions on how to format, branch, and submit your work. Following these guidelines is crucial for your submissions to be evaluated correctly.\n",
    "\n",
    "### Submission Parameters:\n",
    "* Submission Due Date: `HH:MM AM/PM - DD/MM/YYYY`\n",
    "* The branch name for your repo should be: `assignment-2`\n",
    "* What to submit for this assignment:\n",
    "    * This Jupyter Notebook (assignment_2.ipynb) should be populated and should be the only change in your pull request.\n",
    "* What the pull request link should look like for this assignment: `https://github.com/<your_github_username>/algorithms_and_data_structures/pull/<pr_id>`\n",
    "    * Open a private window in your browser. Copy and paste the link to your pull request into the address bar. Make sure you can see your pull request properly. This helps the technical facilitator and learning support staff review your submission easily.\n",
    "\n",
    "Checklist:\n",
    "- [ ] Created a branch with the correct naming convention.\n",
    "- [ ] Ensured that the repository is public.\n",
    "- [ ] Reviewed the PR description guidelines and adhered to them.\n",
    "- [ ] Verify that the link is accessible in a private browser window.\n",
    "\n",
    "If you encounter any difficulties or have questions, please don't hesitate to reach out to our team via our Slack at `#cohort-3-help`. Our Technical Facilitators and Learning Support staff are here to help you navigate any challenges.\n"
   ]
  }
 ],
 "metadata": {
  "kernelspec": {
   "display_name": "dsi_participant",
   "language": "python",
   "name": "python3"
  },
  "language_info": {
   "codemirror_mode": {
    "name": "ipython",
    "version": 3
   },
   "file_extension": ".py",
   "mimetype": "text/x-python",
   "name": "python",
   "nbconvert_exporter": "python",
   "pygments_lexer": "ipython3",
   "version": "3.9.15"
  }
 },
 "nbformat": 4,
 "nbformat_minor": 2
}
